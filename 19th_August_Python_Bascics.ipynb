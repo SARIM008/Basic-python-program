{
 "cells": [
  {
   "cell_type": "code",
   "execution_count": 1,
   "id": "c76681d0-94cb-4061-b3c6-ddcb95fec159",
   "metadata": {},
   "outputs": [
    {
     "name": "stdin",
     "output_type": "stream",
     "text": [
      "input the string     hello\n"
     ]
    },
    {
     "name": "stdout",
     "output_type": "stream",
     "text": [
      "not a palindrome\n"
     ]
    }
   ],
   "source": [
    "#palindrome program\n",
    "s=input(\"input the string    \")\n",
    "j=s[::-1]\n",
    "if j==s:\n",
    "    print(\"it is a palindrome\")\n",
    "else:\n",
    "    print(\"not a palindrome\")"
   ]
  },
  {
   "cell_type": "code",
   "execution_count": 2,
   "id": "9b753b10-7f8e-4acd-9ef7-ee81624caee1",
   "metadata": {},
   "outputs": [
    {
     "name": "stdout",
     "output_type": "stream",
     "text": [
      "value of x is 30\n",
      "value of y is 20\n"
     ]
    }
   ],
   "source": [
    "#code to swap to numbers\n",
    "x=20\n",
    "y=30\n",
    "x=x+y\n",
    "y=x-y\n",
    "x=x-y\n",
    "print(\"value of x is\",x)\n",
    "print(\"value of y is\",y)"
   ]
  },
  {
   "cell_type": "code",
   "execution_count": 3,
   "id": "40f896f1-54e9-454c-8fa2-730914ac118e",
   "metadata": {},
   "outputs": [
    {
     "name": "stdin",
     "output_type": "stream",
     "text": [
      "Enter the length of the rectangle 85\n",
      "enter the breadth of rectangle 75\n"
     ]
    },
    {
     "name": "stdout",
     "output_type": "stream",
     "text": [
      "area of rectangle is 6375\n"
     ]
    }
   ],
   "source": [
    "#code to calculate area of rectangle by taking usuer input\n",
    "x=int(input(\"Enter the length of the rectangle\"))\n",
    "y=int(input(\"enter the breadth of rectangle\"))\n",
    "a=x*y\n",
    "print(\"area of rectangle is\",a)"
   ]
  },
  {
   "cell_type": "code",
   "execution_count": 4,
   "id": "b852821d-bc89-4006-87be-612119729a34",
   "metadata": {},
   "outputs": [
    {
     "name": "stdin",
     "output_type": "stream",
     "text": [
      "enter temperture in celsius 52\n"
     ]
    },
    {
     "name": "stdout",
     "output_type": "stream",
     "text": [
      "temeperture in fahrenheit is 125.60000000000001\n"
     ]
    }
   ],
   "source": [
    "#program that converts temperature from Celsius to fahrenheit\n",
    "c=int(input(\"enter temperture in celsius\"))\n",
    "f=(c*1.8)+32\n",
    "print(\"temeperture in fahrenheit is\",f)"
   ]
  },
  {
   "cell_type": "code",
   "execution_count": 5,
   "id": "f55ed610-3a12-4b91-a911-f782e0e15d6c",
   "metadata": {},
   "outputs": [
    {
     "name": "stdin",
     "output_type": "stream",
     "text": [
      "enter the string hello\n"
     ]
    },
    {
     "name": "stdout",
     "output_type": "stream",
     "text": [
      "5\n"
     ]
    }
   ],
   "source": [
    "#Python program that takes a string as input and prints the\n",
    "#length of the string.\n",
    "s=input(\"enter the string\")\n",
    "print(len(s))"
   ]
  },
  {
   "cell_type": "code",
   "execution_count": 6,
   "id": "920134f0-bafa-4644-9d32-6d4f26c87a6f",
   "metadata": {},
   "outputs": [
    {
     "data": {
      "text/plain": [
       "'nohtyp'"
      ]
     },
     "execution_count": 6,
     "metadata": {},
     "output_type": "execute_result"
    }
   ],
   "source": [
    "#Given a string, reverse the order of characters using string slicing and\n",
    "#print the reversed string.\n",
    "s1=\"python\"\n",
    "s1[::-1]"
   ]
  },
  {
   "cell_type": "code",
   "execution_count": 8,
   "id": "29e2cae2-d03b-464a-902e-b4b0690f0c62",
   "metadata": {},
   "outputs": [
    {
     "data": {
      "text/plain": [
       "'iwillbecomeagoodprogrammer'"
      ]
     },
     "execution_count": 8,
     "metadata": {},
     "output_type": "execute_result"
    }
   ],
   "source": [
    "s1=\"i will become a good programmer\"\n",
    "s1.replace(\" \",\"\")"
   ]
  },
  {
   "cell_type": "code",
   "execution_count": 10,
   "id": "81ebf4e8-daf3-461d-b5d1-d76239abec22",
   "metadata": {},
   "outputs": [
    {
     "name": "stdout",
     "output_type": "stream",
     "text": [
      "enoyreve olleh\n"
     ]
    }
   ],
   "source": [
    "s=\"hello everyone\"\n",
    "print(s[::-1])"
   ]
  },
  {
   "cell_type": "code",
   "execution_count": 11,
   "id": "6223635f-2198-41f3-8fbe-0f2e2f0769cb",
   "metadata": {},
   "outputs": [
    {
     "name": "stdin",
     "output_type": "stream",
     "text": [
      " hello what is happening there\n"
     ]
    },
    {
     "name": "stdout",
     "output_type": "stream",
     "text": [
      "number of vowel is    9\n"
     ]
    }
   ],
   "source": [
    "s4=input(\"\")\n",
    "c=0\n",
    "v=[\"a\",\"e\",\"i\",\"o\",\"u\",\"A\",\"E\",\"I\",\"O\",\"U\"]\n",
    "for character in s4:\n",
    "    if character in v:\n",
    "        c+=1\n",
    "print(\"number of vowel is   \",c)"
   ]
  },
  {
   "cell_type": "code",
   "execution_count": null,
   "id": "f3638e9c-3ff1-43ec-a3dc-76656ea8c2f2",
   "metadata": {},
   "outputs": [],
   "source": []
  }
 ],
 "metadata": {
  "kernelspec": {
   "display_name": "Python 3 (ipykernel)",
   "language": "python",
   "name": "python3"
  },
  "language_info": {
   "codemirror_mode": {
    "name": "ipython",
    "version": 3
   },
   "file_extension": ".py",
   "mimetype": "text/x-python",
   "name": "python",
   "nbconvert_exporter": "python",
   "pygments_lexer": "ipython3",
   "version": "3.10.8"
  }
 },
 "nbformat": 4,
 "nbformat_minor": 5
}
